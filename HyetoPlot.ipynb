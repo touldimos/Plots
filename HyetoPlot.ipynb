{
 "cells": [
  {
   "cell_type": "markdown",
   "metadata": {},
   "source": [
    "# Hyetograph and Hydrograph of event\n",
    "\n",
    "### For the function to work, arrays of flow and rain should be given using as indeces daytime format.\n",
    "#### Examle 1:"
   ]
  },
  {
   "cell_type": "code",
   "execution_count": null,
   "metadata": {},
   "outputs": [],
   "source": [
    "flow = pd.read_csv('week_8_2003-2013_flow_data_15_min_corr.csv')\n",
    "flow.index = pd.to_datetime(flow.loc[:, ['year', 'month', 'day', 'hour', 'minute']])\n",
    "rain.index = pd.to_datetime(rain.loc[:, ['year', 'month', 'day', 'hour', 'minute']]).rename(columns = {'02146409': '409', '02146507': '507'})\n",
    "rain = rain.drop(axis = 1, columns = ['year', 'month', 'day', 'hour', 'minute']).rename(columns = {'02146409': '409', '02146507': '507'})\n",
    "rain_24h = pd.DataFrame()\n",
    "rain_24h['409sum'] = rain['409'].resample(rule = 'D').sum()\n",
    "rain_24h['507sum'] = rain['507'].resample(rule = 'D').sum() \n",
    "rain_24h['409mean'] = rain['409'].resample(rule = 'D').mean() \n",
    "rain_24h['507mean'] = rain['507'].resample(rule = 'D').mean()\n",
    "\n",
    "flow_24h = pd.DataFrame()\n",
    "flow_24h['409sum'] = summer_flow['409mmh'].resample(rule = 'D').sum()\n",
    "flow_24h['507sum'] = summer_flow['507mmh'].resample(rule = 'D').sum()\n",
    "flow_24h['409mean'] = summer_flow['409mmh'].resample(rule = 'D').mean()\n",
    "flow_24h['507mean'] = summer_flow['507mmh'].resample(rule = 'D').mean()\n",
    "flow_24h.head()"
   ]
  },
  {
   "cell_type": "markdown",
   "metadata": {},
   "source": [
    "#### Examle 2:"
   ]
  },
  {
   "cell_type": "code",
   "execution_count": null,
   "metadata": {},
   "outputs": [],
   "source": [
    "charlotte_rainfall = pd.read_csv(r'charlotte_rg_2003-2014.csv', names = [ 'year' , 'month' , 'day' , 'hour' , 'minute', 'rainfall'])\n",
    "charlotte_rainfall.loc[:, 'dt'] = pd.to_datetime(charlotte_rainfall.loc[:, ['year', 'month', 'day', 'hour', 'minute']])\n",
    "charlotte_rainfall = charlotte_rainfall.set_index('dt')\n",
    "\n",
    "#MILITARY HOURS TO DATETIME\n",
    "rotterdam_rainfall = pd.read_csv(r'rotterdam_rg_2003-2014.csv', skipinitialspace=True)\n",
    "\n",
    "#Format data for the Rotterdam data set\n",
    "dates = rotterdam_rainfall['Datum']\n",
    "time = rotterdam_rainfall['Tijd']\n",
    "dates = dates.map(str)\n",
    "date_split = dates.str.extract('(.{4})(.{2})(.{2})', expand=True)\n",
    "\n",
    "time=time.apply(lambda x: '%04d' % x)\n",
    "time_split = time.str.extract('(.{2})(.{2})', expand=True)\n",
    "\n",
    "date_split.loc[:,3] = time_split.loc[:,0]\n",
    "date_split.loc[:,4] = time_split.loc[:,1]\n",
    "\n",
    "rotterdam_rainfall.loc[:,'dt'] = pd.to_datetime(dict(year=date_split[0], month=date_split[1], day=date_split[2], hour=date_split[3], minute=date_split[4]))\n",
    "rotterdam_rainfall.index=rotterdam_rainfall['dt']"
   ]
  },
  {
   "cell_type": "markdown",
   "metadata": {},
   "source": [
    "# Hyetograph and Hydrograph of event"
   ]
  },
  {
   "cell_type": "code",
   "execution_count": 1,
   "metadata": {},
   "outputs": [],
   "source": [
    "def hyetoplot(down, up, avalaible_dates, plotsize, downscale, upscale, numberofdates):\n",
    "    fig, ax = plt.subplots(figsize = plotsize)\n",
    "    ax.plot(avalaible_dates, down, \"black\", zorder = 2)\n",
    "    ax2 = ax.twinx()\n",
    "    ax2.bar(avalaible_dates, height = up, label = 'Rainfall Event', width = 2, zorder = 2)\n",
    "    ax2.set_ylim([np.min(up), upscale * np.max(up)])\n",
    "    ax.set_ylim([np.max(down), downscale * np.min(down)])\n",
    "    ax.set_xlabel('Date', fontsize=15)\n",
    "    ax.set_ylabel('Backscatter Sigma0', fontsize=15)\n",
    "    ax2.set_ylabel('Rainfall [mm/day]', fontsize=15)\n",
    "    ax2.invert_yaxis()\n",
    "    plt.grid()\n",
    "    fig.autofmt_xdate()\n",
    "    ax.xaxis.set_major_locator(plt.MaxNLocator(numberofdates))\n",
    "    ax.fill_between(avalaible_dates, down, color ='green', zorder = 2, label='Sigma0')\n",
    "#     for i, j in enumerate(up):\n",
    "#         if j > 0:\n",
    "#             ax.axvline(avalaible_dates[i], down[i], color=\"grey\", lw = 3, ls = '--', alpha = 0.8, zorder = 1)\n",
    "    plt.grid([])\n",
    "#     ax.axvline(0, 0, color=\"grey\", lw = 3, ls = '--', alpha = 0.8, zorder = 1, label = 'Projection of Rainfall event on Sigma0')\n",
    "    ax.tick_params(labelsize = 15)\n",
    "    ax2.tick_params(labelsize = 15)\n",
    "    handles,labels = [],[]\n",
    "    for ax in fig.axes:\n",
    "        for h,l in zip(*ax.get_legend_handles_labels()):\n",
    "            handles.append(h)\n",
    "            labels.append(l)\n",
    "    plt.legend(handles, labels, loc = 'best', fontsize = 15)\n",
    "    plt.show();"
   ]
  }
 ],
 "metadata": {
  "kernelspec": {
   "display_name": "Python 3 (ipykernel)",
   "language": "python",
   "name": "python3"
  },
  "language_info": {
   "codemirror_mode": {
    "name": "ipython",
    "version": 3
   },
   "file_extension": ".py",
   "mimetype": "text/x-python",
   "name": "python",
   "nbconvert_exporter": "python",
   "pygments_lexer": "ipython3",
   "version": "3.7.10"
  }
 },
 "nbformat": 4,
 "nbformat_minor": 4
}
