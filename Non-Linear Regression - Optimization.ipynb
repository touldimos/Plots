{
 "cells": [
  {
   "cell_type": "code",
   "execution_count": 9,
   "id": "2d399a52",
   "metadata": {},
   "outputs": [],
   "source": [
    "import numpy as np\n",
    "from scipy.optimize import minimize\n",
    "\n",
    "def objective(x):\n",
    "    y = calc_y(x)\n",
    "    obj = 0.0\n",
    "    for i in range(len(ym)):\n",
    "        obj = obj + ((y[i]-ym[i]))**2    \n",
    "    return obj\n",
    "\n",
    "opts = ['Nelder-Mead', 'Powell', 'CG', 'BFGS', 'Newton-CG', 'L-BFGS-B', 'TNC', 'COBYLA', 'SLSQP', 'trust-constr', 'dogleg', 'trust-ncg', 'trust-krylov', 'trust-exact']\n",
    "\n",
    "xm1 = np.random.randint(0, 100, 10)\n",
    "xm2 = np.random.randint(0, 100, 10)\n",
    "ym = np.random.randint(0, 100, 10)\n",
    "\n",
    "def calc_y(x):\n",
    "    a = x[0]\n",
    "    b = x[1]\n",
    "    c = x[2]\n",
    "    y = a * (1 + (xm1 / b)) ** c * (1 - xm2 / 100)\n",
    "    return y\n",
    "\n",
    "x0 = np.zeros(3)\n",
    "x0[0] = 4.5\n",
    "x0[1] = 25\n",
    "x0[2] = 2\n",
    "\n",
    "solution = minimize(objective, x0, method = opts[3])\n",
    "x = solution.x"
   ]
  },
  {
   "cell_type": "code",
   "execution_count": null,
   "id": "a6bd2c0c",
   "metadata": {},
   "outputs": [],
   "source": []
  }
 ],
 "metadata": {
  "kernelspec": {
   "display_name": "Python 3 (ipykernel)",
   "language": "python",
   "name": "python3"
  },
  "language_info": {
   "codemirror_mode": {
    "name": "ipython",
    "version": 3
   },
   "file_extension": ".py",
   "mimetype": "text/x-python",
   "name": "python",
   "nbconvert_exporter": "python",
   "pygments_lexer": "ipython3",
   "version": "3.9.7"
  }
 },
 "nbformat": 4,
 "nbformat_minor": 5
}
