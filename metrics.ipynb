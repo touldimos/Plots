{
 "cells": [
  {
   "cell_type": "code",
   "execution_count": 2,
   "id": "5128fb6c",
   "metadata": {},
   "outputs": [],
   "source": [
    "import numpy as np\n",
    "import sklearn\n",
    "from sklearn import model_selection\n",
    "import scipy\n",
    "\n",
    "def metrics(O, P):\n",
    "    mae = sklearn.metrics.mean_absolute_error(O, P)\n",
    "    mse = sklearn.metrics.mean_squared_error(O, P)\n",
    "    rmse = np.sqrt(mse)\n",
    "    mape = np.mean(np.abs((O - P) / O)) * 100\n",
    "    RSq = sklearn.metrics.r2_score(O, P)\n",
    "    r2 = scipy.stats.pearsonr(O, P)[0]**2\n",
    "    nse = (1-(np.sum((P-O)**2)/np.sum((O-np.mean(O))**2)))\n",
    "    # https://towardsdatascience.com/r%C2%B2-or-r%C2%B2-when-to-use-what-4968eee68ed3\n",
    "    # r2 =  Pearson correlation coefficient (usually denoted by r) #“how close is the data to the line of best fit?”\n",
    "    # R2 = R² indicates the distance of points from the 1:1 line\n",
    "    return mae, mse, rmse, mape, nse, r2"
   ]
  }
 ],
 "metadata": {
  "kernelspec": {
   "display_name": "Python 3 (ipykernel)",
   "language": "python",
   "name": "python3"
  },
  "language_info": {
   "codemirror_mode": {
    "name": "ipython",
    "version": 3
   },
   "file_extension": ".py",
   "mimetype": "text/x-python",
   "name": "python",
   "nbconvert_exporter": "python",
   "pygments_lexer": "ipython3",
   "version": "3.9.7"
  }
 },
 "nbformat": 4,
 "nbformat_minor": 5
}
