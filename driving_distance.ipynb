{
 "cells": [
  {
   "cell_type": "code",
   "execution_count": 1,
   "id": "141d05cd",
   "metadata": {},
   "outputs": [],
   "source": [
    "import requests\n",
    "import json"
   ]
  },
  {
   "cell_type": "code",
   "execution_count": 2,
   "id": "c357ae9b",
   "metadata": {},
   "outputs": [],
   "source": [
    "def driving_distance(p1, p2):\n",
    "    lon_1, lat_1 = p1[0], p1[1]\n",
    "    lon_2, lat_2 = p2[0], p2[1]\n",
    "    r = requests.get(f\"http://router.project-osrm.org/route/v1/car/{lon_1},{lat_1};{lon_2},{lat_2}?overview=false\"\"\")\n",
    "    routes = json.loads(r.content)\n",
    "    route_1 = routes.get(\"routes\")[0]\n",
    "    return route_1['distance']"
   ]
  },
  {
   "cell_type": "code",
   "execution_count": 4,
   "id": "5296e6e7",
   "metadata": {},
   "outputs": [
    {
     "data": {
      "text/plain": [
       "198.26510000000002"
      ]
     },
     "execution_count": 4,
     "metadata": {},
     "output_type": "execute_result"
    }
   ],
   "source": [
    "p1 = 40.6401, 22.9444\n",
    "p2 = 40.5130, 21.6785\n",
    "\n",
    "driving_distance(p1, p2)/1000"
   ]
  },
  {
   "cell_type": "code",
   "execution_count": null,
   "id": "d38667ea",
   "metadata": {},
   "outputs": [],
   "source": []
  }
 ],
 "metadata": {
  "kernelspec": {
   "display_name": "Python 3 (ipykernel)",
   "language": "python",
   "name": "python3"
  },
  "language_info": {
   "codemirror_mode": {
    "name": "ipython",
    "version": 3
   },
   "file_extension": ".py",
   "mimetype": "text/x-python",
   "name": "python",
   "nbconvert_exporter": "python",
   "pygments_lexer": "ipython3",
   "version": "3.9.15"
  }
 },
 "nbformat": 4,
 "nbformat_minor": 5
}
