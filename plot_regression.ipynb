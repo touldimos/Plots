{
 "cells": [
  {
   "cell_type": "code",
   "execution_count": 11,
   "id": "be00a9d6",
   "metadata": {},
   "outputs": [],
   "source": [
    "import numpy as np\n",
    "import matplotlib.pyplot as plt\n",
    "from scipy import stats\n",
    "from sklearn.linear_model import LinearRegression\n",
    "import scipy\n",
    "import sklearn\n",
    "import pandas as pd\n",
    "\n",
    "def plot_regression(O, P):\n",
    "    r2 = scipy.stats.pearsonr(O, P)[0]**2\n",
    "    plt.figure(figsize = (6, 6))\n",
    "    plt.grid(zorder = 1)\n",
    "    plt.scatter(O, P, edgecolor='black', linewidth=1, zorder = 2)\n",
    "    regmodel = LinearRegression()\n",
    "    regmodel.fit(O.reshape(-1,1), P)\n",
    "    plt.plot(O.reshape(-1,1), regmodel.predict(O.reshape(-1,1)), color = 'orange', linestyle = '--', zorder = 3)\n",
    "    plt.xlim([0, np.max([O, P]) + 1])\n",
    "    plt.ylim([0, np.max([O, P]) + 1])\n",
    "    plt.plot([0, np.max([O, P]) + 1], [0, np.max([O, P]) + 1], 'r--', zorder = 4)\n",
    "    plt.legend([u'Regression  R\\u00b2: {:.3f}'.format(r2), '1:1 Plot', 'Observed - Predicted'])\n",
    "    plt.xlabel('Observed ETo [mm/d]')\n",
    "    plt.ylabel('Predicted ETo [mm/d]');"
   ]
  },
  {
   "cell_type": "code",
   "execution_count": 12,
   "id": "5957429f",
   "metadata": {},
   "outputs": [],
   "source": [
    "def plot_regression_stats(O, P):\n",
    "    # Calculate stats of O, P\n",
    "    mae = sklearn.metrics.mean_absolute_error(O, P)\n",
    "    mse = sklearn.metrics.mean_squared_error(O, P)\n",
    "    rmse = np.sqrt(mse)\n",
    "    mape = np.mean(np.abs((O - P) / O)) * 100\n",
    "    RSq = sklearn.metrics.r2_score(O, P)\n",
    "    r2 = scipy.stats.pearsonr(O, P)[0]**2\n",
    "    nse = (1-(np.sum((P-O)**2)/np.sum((O-np.mean(O))**2)))\n",
    "    \n",
    "    # Plot scatter\n",
    "    plt.figure(figsize = (6, 6))\n",
    "    plt.scatter(O, P, edgecolor='#808080', facecolors='#C0C0C0', linewidth=1, zorder = 2)\n",
    "    corr, _ = scipy.stats.pearsonr(O, P) # Pearson correlation between observed and predicted\n",
    "    regmodel = LinearRegression() # Apply linear regression best fit between observed and predicted\n",
    "    regmodel.fit(O.reshape(-1,1), P)\n",
    "    rsq = regmodel.score(O.reshape(-1,1), P)\n",
    "    obs, pred = O.reshape(-1,1), regmodel.predict(O.reshape(-1,1))\n",
    "    plt.plot([obs.min(), obs.max()], [pred.min(), pred.max()], color = 'black', lw = 3, zorder = 3)\n",
    "    plt.xlabel('VV [db]')\n",
    "    plt.ylabel('SM modelled [mm]')\n",
    "    \n",
    "    # Add stats on the plot\n",
    "    stats = np.round([mae, mse, rmse, mape, RSq, r2], 3)\n",
    "    stats = pd.DataFrame(data = stats, index = ['MAE', 'MSE', 'RMSE', 'MAPE', 'RSq', u'R\\u00b2'], columns = ['Metrics'])\n",
    "    stats.loc['RSq'] = np.round((stats.loc['RSq']* 100) , 2)\n",
    "    stats.loc[u'R\\u00b2'] = np.round((stats.loc[u'R\\u00b2']* 100) , 2) \n",
    "    stats2 = pd.DataFrame(stats['Metrics'][:3].astype(str) + ' mm' )\n",
    "    stats3 = pd.DataFrame(stats['Metrics'][3:].astype(str) + ' %' )\n",
    "    stats = stats2.append(stats3)\n",
    "    table = plt.table(cellText=stats.values, colWidths = [0.5] * len(stats.columns),\n",
    "          rowLabels = stats.index, cellLoc = 'left', rowLoc = 'left', loc = 4, edges='open') # Adjust table size loc and allignment\n",
    "    table.auto_set_font_size(False)\n",
    "    table.set_fontsize(9)\n",
    "    table.scale(.5, 1.5)\n",
    "    plt.legend([u'Pearson R\\u00b2: {:.3f} &\\nPearson R: {:.3f}'.format(corr**2, corr), '1:1 Plot', 'Observed - Predicted'], loc = 2)"
   ]
  },
  {
   "cell_type": "code",
   "execution_count": null,
   "id": "b38a45af",
   "metadata": {},
   "outputs": [],
   "source": []
  }
 ],
 "metadata": {
  "kernelspec": {
   "display_name": "Python 3 (ipykernel)",
   "language": "python",
   "name": "python3"
  },
  "language_info": {
   "codemirror_mode": {
    "name": "ipython",
    "version": 3
   },
   "file_extension": ".py",
   "mimetype": "text/x-python",
   "name": "python",
   "nbconvert_exporter": "python",
   "pygments_lexer": "ipython3",
   "version": "3.9.7"
  }
 },
 "nbformat": 4,
 "nbformat_minor": 5
}
