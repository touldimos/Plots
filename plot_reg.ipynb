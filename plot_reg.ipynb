{
 "cells": [
  {
   "cell_type": "code",
   "execution_count": 3,
   "metadata": {},
   "outputs": [
    {
     "data": {
      "image/png": "[encoded data removed]",
      "text/plain": [
       "<Figure size 432x288 with 1 Axes>"
      ]
     },
     "metadata": {
      "needs_background": "light"
     },
     "output_type": "display_data"
    }
   ],
   "source": [
    "import numpy as np\n",
    "import matplotlib.pyplot as plt\n",
    "import sklearn\n",
    "from sklearn import model_selection\n",
    "from scipy import stats\n",
    "from sklearn.linear_model import LinearRegression\n",
    "import scipy\n",
    "\n",
    "def plot_regression(O, P):\n",
    "#     plt.title('R2 calibration is {:.4f}, R2 validation is {:.4f} and \\n whole R2 is {:.4f}'.format(evalu_m['R2'], evalu_valid_m['R2'], evaluation[-1]))\n",
    "    plt.scatter(O, P, edgecolor='black', linewidth=1)\n",
    "    regmodel = LinearRegression()\n",
    "    regmodel.fit(O.reshape(-1,1), P)\n",
    "    plt.plot(O.reshape(-1,1), regmodel.predict(O.reshape(-1,1)))\n",
    "    plt.xlim([0, np.max([O, P]) + 1])\n",
    "    plt.ylim([0, np.max([O, P]) + 1])\n",
    "    plt.plot([0, np.max([O, P]) + 1], [0, np.max([O, P]) + 1], 'r--');\n",
    "    \n",
    "def metrics(O, P):\n",
    "    mae = sklearn.metrics.mean_absolute_error(O, P)\n",
    "    mdae = sklearn.metrics.median_absolute_error(O, P)\n",
    "    RSq = sklearn.metrics.r2_score(O, P)\n",
    "    rmse = sklearn.metrics.mean_squared_error(O, P, squared=False)\n",
    "    R2 = stats.linregress(O, P)[2]**2\n",
    "    return mae, mdae, rmse, RSq, R2"
   ]
  },
  {
   "cell_type": "code",
   "execution_count": 24,
   "metadata": {},
   "outputs": [
    {
     "data": {
      "text/plain": [
       "0.009324743832131303"
      ]
     },
     "execution_count": 24,
     "metadata": {},
     "output_type": "execute_result"
    }
   ],
   "source": [
    "slope"
   ]
  },
  {
   "cell_type": "code",
   "execution_count": null,
   "metadata": {},
   "outputs": [],
   "source": []
  }
 ],
 "metadata": {
  "kernelspec": {
   "display_name": "Python 3",
   "language": "python",
   "name": "python3"
  },
  "language_info": {
   "codemirror_mode": {
    "name": "ipython",
    "version": 3
   },
   "file_extension": ".py",
   "mimetype": "text/x-python",
   "name": "python",
   "nbconvert_exporter": "python",
   "pygments_lexer": "ipython3",
   "version": "3.7.10"
  }
 },
 "nbformat": 4,
 "nbformat_minor": 4
}
